{
  "cells": [
    {
      "cell_type": "markdown",
      "metadata": {
        "colab_type": "text",
        "id": "view-in-github"
      },
      "source": [
        "<a href=\"https://colab.research.google.com/github/andres-merino/Generador-Moodle-LaTeX/blob/main/Codigo%20Colab%20v01.ipynb\" target=\"_parent\"><img src=\"https://colab.research.google.com/assets/colab-badge.svg\" alt=\"Open In Colab\"/></a>"
      ]
    },
    {
      "cell_type": "markdown",
      "metadata": {
        "id": "n6Mb9NheuIZ0"
      },
      "source": [
        "# Generador de preguntas de Moodle"
      ]
    },
    {
      "cell_type": "code",
      "execution_count": 11,
      "metadata": {
        "id": "KO3ZKRi7uIZ2"
      },
      "outputs": [],
      "source": [
        "# Paquetes\n",
        "import itertools\n",
        "import os\n",
        "import random\n",
        "import numpy as np\n",
        "from scipy.stats import *\n",
        "from sympy import *"
      ]
    },
    {
      "cell_type": "markdown",
      "metadata": {
        "id": "J41iW6_VuIZ3"
      },
      "source": [
        "## Definiciones\n",
        "\n",
        "Llenar estos datos, en el enunciado, los parámetros y datos que deseen sean reemplazados o calculados por el generador, deben estar entre corchetes dobles `[[ ]]`. Dentro de cada pregunta, si un item no tiene opciones, dejar corchetes vacíos `[]` (ver ejemplo). El identificador de la pregunta siempre debe tener el parámetro `[[id]]` para que sea reemplazado por el generador."
      ]
    },
    {
      "cell_type": "code",
      "execution_count": 12,
      "metadata": {
        "id": "rluZkFJWuIZ4"
      },
      "outputs": [],
      "source": [
        "# Nombre del cuestionario\n",
        "name = \"Producto\"\n",
        "\n",
        "# Parámetros\n",
        "par = [\"a\", \"b\"]\n",
        "# Diccionario de parámetros\n",
        "par_dict = {\n",
        "    \"a\": [-2,-1,0,1,2],\n",
        "    \"b\": [-2,-1,1,2],\n",
        "    }\n",
        "\n",
        "# Enunciado\n",
        "enunciado = r'''\n",
        "\\begin{numerical}[tolerance=0.01]%\n",
        "    % - Indentificador\n",
        "    {Producto - [[id]]}\n",
        "    % - Enunciado\n",
        "    Determine el valor de\n",
        "    \\[\n",
        "        [[a]] + [[b]]\n",
        "    \\]\n",
        "    \\item[] [[a+b]]\n",
        "\\end{numerical}\n",
        "'''\n",
        "\n",
        "# Cantidad máxima de ejercicios (opcional)\n",
        "max_ejercicios = 2\n",
        "# max_ejercicios = None\n"
      ]
    },
    {
      "cell_type": "markdown",
      "metadata": {
        "id": "gM3_qbJ8uIZ5"
      },
      "source": [
        "## Probar con un parámetro\n",
        "\n",
        "Para probar con un parámetro, ejecutar el siguiente código. Si se quiere solo generar una cantidad $n$ de preguntas para copiarlas, cambiar el valor de total preguntas.\n"
      ]
    },
    {
      "cell_type": "code",
      "execution_count": null,
      "metadata": {
        "id": "11A-8qeJuIZ5",
        "outputId": "ee987d15-7eba-465b-f371-2e8f1b5ec56a"
      },
      "outputs": [
        {
          "name": "stdout",
          "output_type": "stream",
          "text": [
            "%%%%%%%%%%%%%%%%%%%%%%%%%%%%%%%%%%%%%%%%\n",
            "\\begin{numerical}[tolerance=0.01]%\n",
            "    % - Indentificador\n",
            "    {Suma - 1}\n",
            "    % - Enunciado\n",
            "    Determine el valor de \n",
            "    \\[\n",
            "        2 + 1\n",
            "    \\]\n",
            "    \\item[] 3\n",
            "\\end{numerical}\n",
            "\n",
            "%%%%%%%%%%%%%%%%%%%%%%%%%%%%%%%%%%%%%%%%\n",
            "\\begin{numerical}[tolerance=0.01]%\n",
            "    % - Indentificador\n",
            "    {Suma - 2}\n",
            "    % - Enunciado\n",
            "    Determine el valor de \n",
            "    \\[\n",
            "        -2 + -1\n",
            "    \\]\n",
            "    \\item[] -3\n",
            "\\end{numerical}\n",
            "\n",
            "\n"
          ]
        }
      ],
      "source": [
        "# Total preguntas\n",
        "# _total = 1\n",
        "_total = 2\n",
        "# Reemplazo todos los { por {{\n",
        "_enunciado_F = enunciado.replace('{', '{{')\n",
        "_enunciado_F = _enunciado_F.replace('}', '}}')\n",
        "# Reemplazo todos los corchetes por {\n",
        "_enunciado_F = _enunciado_F.replace('[[', '{')\n",
        "_enunciado_F = _enunciado_F.replace(']]', '}')\n",
        "\n",
        "# Lista de parámetros\n",
        "_par_list = []\n",
        "for _parametro in par:\n",
        "    _par_list.append(par_dict[_parametro])\n",
        "\n",
        "# Semilla\n",
        "random.seed(10)\n",
        "\n",
        "# Producto cartesiano\n",
        "_par_comb = list(itertools.product(*_par_list))\n",
        "_par_comb = random.sample(_par_comb, _total)\n",
        "\n",
        "# Genero el examen\n",
        "_quiz = ''\n",
        "id = 1\n",
        "for _parametros in _par_comb:\n",
        "    # try:\n",
        "    for _n, _parametro in enumerate(par):\n",
        "        exec(f\"{_parametro} = _parametros[{_n}]\")\n",
        "    # Reemplazo\n",
        "    _quiz += '%%%%%%%%%%%%%%%%%%%%%%%%%%%%%%%%%%%%%%%%'\n",
        "    exec(f'_quiz += fr\"\"\"{_enunciado_F}\"\"\"')\n",
        "    _quiz += '\\n'\n",
        "    id += 1\n",
        "    # except:\n",
        "        # print('Error en los parámetros:',par, '=', _parametros)\n",
        "    if id > _total:\n",
        "            break\n",
        "\n",
        "# Mensaje\n",
        "print(_quiz)"
      ]
    },
    {
      "cell_type": "markdown",
      "metadata": {},
      "source": [
        "## Generar el examen\n",
        "\n",
        "Si todo está bien, ejecutar el siguiente código para generar el examen."
      ]
    },
    {
      "cell_type": "code",
      "execution_count": null,
      "metadata": {},
      "outputs": [],
      "source": [
        "# Reemplazo todos los { por {{\n",
        "_enunciado_F = enunciado.replace('{', '{{')\n",
        "_enunciado_F = _enunciado_F.replace('}', '}}')\n",
        "# Reemplazo todos los corchetes por {\n",
        "_enunciado_F = _enunciado_F.replace('[[', '{')\n",
        "_enunciado_F = _enunciado_F.replace(']]', '}')\n",
        "\n",
        "# Lista de parámetros\n",
        "_par_list = []\n",
        "for _parametro in par:\n",
        "    _par_list.append(par_dict[_parametro])\n",
        "\n",
        "# Producto cartesiano\n",
        "_par_comb = list(itertools.product(*_par_list))\n",
        "\n",
        "# Semilla\n",
        "random.seed(10)\n",
        "\n",
        "# Si está definido el máximo de ejercicios\n",
        "if max_ejercicios:\n",
        "    # Tomo combinaciones aleatorias\n",
        "    _par_comb = random.sample(_par_comb, max_ejercicios)\n",
        "\n",
        "# Genero el examen\n",
        "_quiz = ''\n",
        "id = 1\n",
        "for _parametros in _par_comb:\n",
        "    try:\n",
        "        for _n, _parametro in enumerate(par):\n",
        "            exec(f\"{_parametro} = _parametros[{_n}]\")\n",
        "        # Reemplazo\n",
        "        _quiz += '%%%%%%%%%%%%%%%%%%%%%%%%%%%%%%%%%%%%%%%%'\n",
        "        exec(f'_quiz += fr\"\"\"{_enunciado_F}\"\"\"')\n",
        "        _quiz += '\\n'\n",
        "        id += 1\n",
        "    except:\n",
        "        print('Error en los parámetros:',par, '=', _parametros)\n",
        "\n",
        "_parametros_latex = ''\n",
        "for _parametro in par:\n",
        "    _parametros_latex += '\\t' + fr'\\item ${_parametro} \\in ' + '\\{' + ', '.join(map(str, par_dict[_parametro])) + '\\}$' + '\\n'\n",
        "\n",
        "# Leo el archivo plantilla\n",
        "_plantilla = open('Plantilla.tex', 'r', encoding='utf-8')\n",
        "_t_plantilla = _plantilla.read()\n",
        "_plantilla.close()\n",
        "# Reemplazo\n",
        "_t_plantilla = _t_plantilla.replace('{{QUIZ}}', _quiz)\n",
        "_t_plantilla = _t_plantilla.replace('{{Cuestionario}}', name)\n",
        "_t_plantilla = _t_plantilla.replace('{{Enunciado}}', enunciado)\n",
        "_t_plantilla = _t_plantilla.replace('{{Parámetros}}', _parametros_latex)\n",
        "_t_plantilla = _t_plantilla.replace('{{Número de preguntas}}', str(id-1))\n",
        "\n",
        "# Escribo el archivo\n",
        "_examen = open(f'test/{name}.tex', 'w', encoding='utf-8')\n",
        "_examen.write(_t_plantilla)\n",
        "_examen.close()\n",
        "\n",
        "# Compilo el examen con xeLaTeX\n",
        "os.system(f'latexmk -xelatex \"{name}.tex\" -output-directory=\"./test\"')\n",
        "\n",
        "# Elimino todos los archivos llamados examen, salvo el pdf y el xml\n",
        "_archivos = os.listdir('./test')\n",
        "for _archivo in _archivos:\n",
        "    if name in _archivo:\n",
        "        if '.pdf' not in _archivo and '.xml' not in _archivo and '.tex' not in _archivo:\n",
        "            try:\n",
        "                os.remove(\"test/\"+_archivo)\n",
        "            except:\n",
        "                pass\n",
        "# Elimino los archivos fls\n",
        "for _archivo in _archivos:\n",
        "    if '.fls' in _archivo:\n",
        "        try:\n",
        "            os.remove(_archivo)\n",
        "        except:\n",
        "            pass\n",
        "\n",
        "# Mensaje\n",
        "print(f'Examen generado con éxito, se generaron {id-1} preguntas.')"
      ]
    }
  ],
  "metadata": {
    "colab": {
      "include_colab_link": true,
      "provenance": []
    },
    "kernelspec": {
      "display_name": "Python 3",
      "language": "python",
      "name": "python3"
    },
    "language_info": {
      "codemirror_mode": {
        "name": "ipython",
        "version": 3
      },
      "file_extension": ".py",
      "mimetype": "text/x-python",
      "name": "python",
      "nbconvert_exporter": "python",
      "pygments_lexer": "ipython3",
      "version": "3.11.3"
    }
  },
  "nbformat": 4,
  "nbformat_minor": 0
}
