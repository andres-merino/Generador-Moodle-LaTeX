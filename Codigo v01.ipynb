{
  "cells": [
    {
      "cell_type": "markdown",
      "metadata": {
        "id": "n6Mb9NheuIZ0"
      },
      "source": [
        "# Generador de preguntas de Moodle"
      ]
    },
    {
      "cell_type": "code",
      "execution_count": 19,
      "metadata": {
        "id": "KO3ZKRi7uIZ2"
      },
      "outputs": [],
      "source": [
        "# Paquetes\n",
        "import itertools\n",
        "import os\n",
        "import random"
      ]
    },
    {
      "cell_type": "markdown",
      "metadata": {
        "id": "J41iW6_VuIZ3"
      },
      "source": [
        "## Parámetros y enunciado\n",
        "\n",
        "Se deben completar los siguientes campos para la generación de las preguntas del cuestionario.\n",
        "\n",
        "1. **Nombre del cuestionario:** Asigne un nombre descriptivo al cuestionario.\n",
        "2. **Parámetros:** Enumere todos los parámetros utilizados en el la pregunta.\n",
        "3. **Diccionario de parámetros:** Proporcione un diccionario con los parámetros y listas de valores de cada uno.\n",
        "4. **Enunciado:** Escriba el enunciado de la pregunta. Utilice doble corchete `[[ ]]` para encerrar los parámetros o cálculos que desee que el generador reemplace.\n",
        "    - Si un item dentro del enunciado no tiene opciones, use corchetes vacíos `[]`.\n",
        "    - Incluya siempre el parámetro `[[id]]` en cada pregunta para su reemplazo automático.\n",
        "5. **Cantidad máxima de ejercicios:** Especifique el número máximo de preguntas que desea que se generen para este cuestionario.\n",
        "6. **Funciones (opcional):** Código adicional a compilar antes de la generación de cada pregunta, se debe colocar en formato string (entre comillas).\n",
        "7. **Plantilla (opcional):** Nombre del archivo .tex que será usado como plantilla, de no especificar, se utilizará el archivo `Plantilla.tex`.\n",
        "8. **Salida (opcional):** Nombre de la carpeta de salida, de no especificar, seutilizará `output`."
      ]
    },
    {
      "cell_type": "code",
      "execution_count": 20,
      "metadata": {
        "id": "rluZkFJWuIZ4"
      },
      "outputs": [],
      "source": [
        "# Nombre del cuestionario\n",
        "name = \"Producto\"\n",
        "\n",
        "# Parámetros\n",
        "par = [\"a\", \"b\"]\n",
        "# Diccionario de parámetros\n",
        "par_dict = {\n",
        "    \"a\": [-2,-1,0,1,2],\n",
        "    \"b\": [-2,-1,1,2],\n",
        "    }\n",
        "\n",
        "# Enunciado\n",
        "enunciado = r'''\n",
        "\\begin{numerical}[]%\n",
        "    % - Indentificador\n",
        "    {Producto - [[id]]}\n",
        "    % - Enunciado\n",
        "    Determine el valor de\n",
        "    \\[\n",
        "        ([[a]]) \\cdot ([[b]])\n",
        "    \\]\n",
        "    \\item[] [[a*b]]\n",
        "\\end{numerical}\n",
        "'''\n",
        "\n",
        "# Cantidad de preguntas a generar\n",
        "n_preguntas = 2\n",
        "\n",
        "# Código adicional a compilar antes de la generación de cada pregunta (opcional)\n",
        "# funciones = []\n",
        "# Plantilla personalizada (opcional, por defento Plantilla.tex)\n",
        "# plantilla = \"PlantillaAleph.tex\"\n",
        "# Carpeta de salida (opcional, por defecto output/)\n",
        "# carpeta = \"output/\""
      ]
    },
    {
      "cell_type": "markdown",
      "metadata": {
        "id": "gM3_qbJ8uIZ5"
      },
      "source": [
        "## Generar preguntas\n",
        "\n",
        "Ejecutar la siguiente celda, se obtendrá el código en LaTeX de las perguntas generadas.\n"
      ]
    },
    {
      "cell_type": "code",
      "execution_count": 21,
      "metadata": {
        "id": "11A-8qeJuIZ5",
        "outputId": "ee987d15-7eba-465b-f371-2e8f1b5ec56a"
      },
      "outputs": [
        {
          "name": "stdout",
          "output_type": "stream",
          "text": [
            "%%%%%%%%%%%%%%%%%%%%%%%%%%%%%%%%%%%%%%%%\n",
            "\\begin{numerical}[]%\n",
            "    % - Indentificador\n",
            "    {Producto - 1}\n",
            "    % - Enunciado\n",
            "    Determine el valor de\n",
            "    \\[\n",
            "        (-1) \\cdot (-1)\n",
            "    \\]\n",
            "    \\item[] 1\n",
            "\\end{numerical}\n",
            "\n",
            "%%%%%%%%%%%%%%%%%%%%%%%%%%%%%%%%%%%%%%%%\n",
            "\\begin{numerical}[]%\n",
            "    % - Indentificador\n",
            "    {Producto - 2}\n",
            "    % - Enunciado\n",
            "    Determine el valor de\n",
            "    \\[\n",
            "        (-2) \\cdot (2)\n",
            "    \\]\n",
            "    \\item[] -4\n",
            "\\end{numerical}\n",
            "\n",
            "\n"
          ]
        }
      ],
      "source": [
        "# Total preguntas\n",
        "_total = n_preguntas\n",
        "# Reemplazo todos los { por {{\n",
        "_enunciado_F = enunciado.replace('{', '{{')\n",
        "_enunciado_F = _enunciado_F.replace('}', '}}')\n",
        "# Reemplazo todos los corchetes por {\n",
        "_enunciado_F = _enunciado_F.replace('[[', '{')\n",
        "_enunciado_F = _enunciado_F.replace(']]', '}')\n",
        "\n",
        "# Lista de parámetros\n",
        "_par_list = []\n",
        "for _parametro in par:\n",
        "    _par_list.append(par_dict[_parametro])\n",
        "\n",
        "# Semilla\n",
        "random.seed(18)\n",
        "\n",
        "# Producto cartesiano\n",
        "_par_comb = list(itertools.product(*_par_list))\n",
        "_par_comb = random.sample(_par_comb, _total)\n",
        "\n",
        "# Genero el examen\n",
        "_quiz = ''\n",
        "id = 1\n",
        "if not 'funciones' in locals():\n",
        "    funciones = []\n",
        "for _parametros in _par_comb:\n",
        "    try:\n",
        "        for _n, _parametro in enumerate(par):\n",
        "            exec(f\"{_parametro} = _parametros[{_n}]\")\n",
        "        for _funcion in funciones:\n",
        "            exec(_funcion)\n",
        "        # Reemplazo\n",
        "        _quiz += '%%%%%%%%%%%%%%%%%%%%%%%%%%%%%%%%%%%%%%%%'\n",
        "        exec(f'_quiz += fr\"\"\"{_enunciado_F}\"\"\"')\n",
        "        _quiz += '\\n'\n",
        "        id += 1\n",
        "    except:\n",
        "        print('Error en los parámetros:',par, '=', _parametros)\n",
        "    if id > _total:\n",
        "        break\n",
        "\n",
        "# Mensaje\n",
        "print(_quiz)"
      ]
    },
    {
      "cell_type": "markdown",
      "metadata": {},
      "source": [
        "## Generar .tex, .pdf y .xml\n",
        "\n",
        "Al ejecutar la siguiente celda, se obtendrá el archivo .tex, .pdf y .xml del cuestionario generado."
      ]
    },
    {
      "cell_type": "code",
      "execution_count": 22,
      "metadata": {},
      "outputs": [
        {
          "name": "stdout",
          "output_type": "stream",
          "text": [
            "Examen generado con éxito, se generaron 2 preguntas.\n"
          ]
        }
      ],
      "source": [
        "# Total preguntas\n",
        "_total = n_preguntas\n",
        "# Reemplazo todos los { por {{\n",
        "_enunciado_F = enunciado.replace('{', '{{')\n",
        "_enunciado_F = _enunciado_F.replace('}', '}}')\n",
        "# Reemplazo todos los corchetes por {\n",
        "_enunciado_F = _enunciado_F.replace('[[', '{')\n",
        "_enunciado_F = _enunciado_F.replace(']]', '}')\n",
        "\n",
        "# Lista de parámetros\n",
        "_par_list = []\n",
        "for _parametro in par:\n",
        "    _par_list.append(par_dict[_parametro])\n",
        "\n",
        "# Producto cartesiano\n",
        "_par_comb = list(itertools.product(*_par_list))\n",
        "\n",
        "# Semilla\n",
        "random.seed(18)\n",
        "\n",
        "# Si está definido el máximo de ejercicios\n",
        "if n_preguntas:\n",
        "    # Tomo combinaciones aleatorias\n",
        "    _par_comb = random.sample(_par_comb, n_preguntas)\n",
        "\n",
        "# Genero el examen\n",
        "_quiz = ''\n",
        "id = 1\n",
        "if not 'funciones' in locals():\n",
        "    funciones = []\n",
        "for _parametros in _par_comb:\n",
        "    try:\n",
        "        for _n, _parametro in enumerate(par):\n",
        "            exec(f\"{_parametro} = _parametros[{_n}]\")\n",
        "        for _funcion in funciones:\n",
        "            exec(_funcion)\n",
        "        # Reemplazo\n",
        "        _quiz += '%%%%%%%%%%%%%%%%%%%%%%%%%%%%%%%%%%%%%%%%'\n",
        "        exec(f'_quiz += fr\"\"\"{_enunciado_F}\"\"\"')\n",
        "        _quiz += '\\n'\n",
        "        id += 1\n",
        "    except:\n",
        "        print('Error en los parámetros:',par, '=', _parametros)\n",
        "    if id > _total:\n",
        "        break\n",
        "\n",
        "_parametros_latex = ''\n",
        "for _parametro in par:\n",
        "    _parametros_latex += '\\t' + fr'\\item ${_parametro} \\in ' + '\\\\{' + ', '.join(map(str, par_dict[_parametro])) + '\\\\}$' + '\\n'\n",
        "\n",
        "# Leo el archivo plantilla\n",
        "# Si la variable plantilla no está definida, la defino como 'Plantilla.tex'\n",
        "if not 'plantilla' in locals():\n",
        "    plantilla = 'Plantilla.tex'\n",
        "_plantilla = open(plantilla, 'r', encoding='utf-8')\n",
        "_t_plantilla = _plantilla.read()\n",
        "_plantilla.close()\n",
        "# Reemplazo\n",
        "_t_plantilla = _t_plantilla.replace('{{QUIZ}}', _quiz)\n",
        "_t_plantilla = _t_plantilla.replace('{{Cuestionario}}', name)\n",
        "_t_plantilla = _t_plantilla.replace('{{Parámetros}}', _parametros_latex)\n",
        "_t_plantilla = _t_plantilla.replace('{{Número de preguntas}}', str(id-1))\n",
        "\n",
        "# Escribo el archivo\n",
        "# Si la variable carpeta no está definida, la defino como 'test'\n",
        "if not 'carpeta' in locals():\n",
        "    carpeta = 'output'\n",
        "# Si no existe la carpeta, la creo\n",
        "if not os.path.exists(carpeta):\n",
        "    os.makedirs(carpeta)\n",
        "_examen = open(f'{carpeta}/{name}.tex', 'w', encoding='utf-8')\n",
        "_examen.write(_t_plantilla)\n",
        "_examen.close()\n",
        "\n",
        "# Compilo el examen con xeLaTeX\n",
        "os.system(f'latexmk -xelatex \"{name}.tex\" -output-directory=\"./{carpeta}\"')\n",
        "\n",
        "# Elimino todos los archivos llamados examen, salvo el pdf y el xml\n",
        "_archivos = os.listdir(f'./{carpeta}')\n",
        "for _archivo in _archivos:\n",
        "    if name in _archivo:\n",
        "        if '.pdf' not in _archivo and '.xml' not in _archivo and '.tex' not in _archivo:\n",
        "            try:\n",
        "                os.remove(f\"{carpeta}/\"+_archivo)\n",
        "            except:\n",
        "                pass\n",
        "# Elimino los archivos fls\n",
        "for _archivo in _archivos:\n",
        "    if '.fls' in _archivo:\n",
        "        try:\n",
        "            os.remove(_archivo)\n",
        "        except:\n",
        "            pass\n",
        "\n",
        "# Mensaje\n",
        "print(f'Examen generado con éxito, se generaron {id-1} preguntas.')"
      ]
    }
  ],
  "metadata": {
    "colab": {
      "include_colab_link": true,
      "provenance": []
    },
    "kernelspec": {
      "display_name": "Python 3",
      "language": "python",
      "name": "python3"
    },
    "language_info": {
      "codemirror_mode": {
        "name": "ipython",
        "version": 3
      },
      "file_extension": ".py",
      "mimetype": "text/x-python",
      "name": "python",
      "nbconvert_exporter": "python",
      "pygments_lexer": "ipython3",
      "version": "3.12.3"
    }
  },
  "nbformat": 4,
  "nbformat_minor": 0
}
