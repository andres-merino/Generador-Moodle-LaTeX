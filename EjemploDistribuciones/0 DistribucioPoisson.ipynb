{
  "cells": [
    {
      "cell_type": "markdown",
      "metadata": {
        "id": "n6Mb9NheuIZ0"
      },
      "source": [
        "# Generador de preguntas de Moodle"
      ]
    },
    {
      "cell_type": "code",
      "execution_count": 10,
      "metadata": {
        "id": "KO3ZKRi7uIZ2"
      },
      "outputs": [],
      "source": [
        "# Paquetes\n",
        "import itertools\n",
        "import os\n",
        "import random\n",
        "\n",
        "import numpy as np\n",
        "from scipy.stats import poisson"
      ]
    },
    {
      "cell_type": "markdown",
      "metadata": {
        "id": "J41iW6_VuIZ3"
      },
      "source": [
        "## Funciones adicionales\n"
      ]
    },
    {
      "cell_type": "code",
      "execution_count": 11,
      "metadata": {},
      "outputs": [],
      "source": [
        "def DistrPoisson(m, unaD):\n",
        "    \"\"\"\n",
        "    Genera una expresión para calcular una probabilidad en una distribución de Poisson\n",
        "    con un parámetro (P(X = a), P(X <= a) o P(X >= a)) o con dos parámetros\n",
        "    (P(a <= X <= b)), y devuelve el enunciado junto con el resultado calculado.\n",
        "\n",
        "    Parámetros:\n",
        "    m: Media (parámetro lambda) de la distribución de Poisson.\n",
        "    unaD: Booleano. Si es True, genera una desigualdad con un solo parámetro.\n",
        "          Si es False, genera una desigualdad con dos parámetros.\n",
        "    \n",
        "    Retorna:\n",
        "    Enunciado del problema y el resultado calculado.\n",
        "    \"\"\"\n",
        "\n",
        "    # Definir la distribución de X\n",
        "    distribucion = f'Sea \\\\( X \\\\sim Poi({m}) \\\\).'\n",
        "\n",
        "    # Elegir dos valores aleatorios para los parámetros\n",
        "    k1 = (m + 4 * np.sqrt(m) - 1) * random.random()\n",
        "    k2 = (m + 4 * np.sqrt(m) - 1) * random.random()\n",
        "\n",
        "    # Asignar valores enteros a y b\n",
        "    a = int(min(k1, k2))\n",
        "    b = int(max(k1, k2)) + 1\n",
        "\n",
        "    # Seleccionar una desigualdad aleatoriamente\n",
        "    D = random.random()\n",
        "\n",
        "    # Generar enunciado y calcular resultado según el número de parámetros\n",
        "    if unaD:\n",
        "        if D < 0.6:\n",
        "            desigualdad, resultado = ' = ', poisson.pmf(a, m)\n",
        "        elif D < 0.8:\n",
        "            desigualdad, resultado = r' \\leq ', poisson.cdf(a, m)\n",
        "        else:\n",
        "            desigualdad, resultado = r' \\geq ', 1 - poisson.cdf(a - 1, m)\n",
        "\n",
        "        enunciado = f'{distribucion} Calcule \\\\( P(X{desigualdad}{a}) \\\\).'\n",
        "    else:\n",
        "        resultado = poisson.cdf(b, m) - poisson.cdf(a - 1, m)\n",
        "        enunciado = f'{distribucion} Calcule \\\\( P({a} \\\\leq X \\\\leq {b}) \\\\).'\n",
        "\n",
        "    return enunciado, round(resultado, 4)\n"
      ]
    },
    {
      "cell_type": "markdown",
      "metadata": {},
      "source": [
        "## Parámetros y enunciado"
      ]
    },
    {
      "cell_type": "code",
      "execution_count": 12,
      "metadata": {
        "id": "rluZkFJWuIZ4"
      },
      "outputs": [],
      "source": [
        "# Nombre del cuestionario\n",
        "name = \"Poisson\"\n",
        "\n",
        "# Parámetros\n",
        "par = [\"m\", \"unaD\"]\n",
        "# Diccionario de parámetros\n",
        "par_dict = {\n",
        "    \"m\": range(3, 7),\n",
        "    \"unaD\": [True, False],\n",
        "}\n",
        "\n",
        "# Enunciado\n",
        "enunciado = r'''\n",
        "\\begin{numerical}[tolerance=0.01]%\n",
        "    % - Indentificador\n",
        "    {Poisson - [[id]]}\n",
        "    % - Enunciado\n",
        "    [[enunciado_generado]]\n",
        "    \\item[] [[ res ]]\n",
        "\\end{numerical}\n",
        "'''\n",
        "\n",
        "# Cantidad de preguntas a generar\n",
        "n_preguntas = 10\n",
        "\n",
        "# Código adicional a compilar antes de la generación de cada pregunta (opcional)\n",
        "funciones = [\n",
        "    \"enunciado_generado, res = DistrPoisson(m, unParametro)\",\n",
        "]\n",
        "# Plantilla personalizada (opcional, por defento Plantilla.tex)\n",
        "plantilla = \"PlantillaAleph.tex\"\n",
        "# Carpeta de salida (opcional, por defecto output/)\n",
        "# carpeta = \"output/\""
      ]
    },
    {
      "cell_type": "markdown",
      "metadata": {
        "id": "gM3_qbJ8uIZ5"
      },
      "source": [
        "## Generar preguntas"
      ]
    },
    {
      "cell_type": "code",
      "execution_count": 13,
      "metadata": {
        "id": "11A-8qeJuIZ5",
        "outputId": "ee987d15-7eba-465b-f371-2e8f1b5ec56a"
      },
      "outputs": [
        {
          "name": "stdout",
          "output_type": "stream",
          "text": [
            "Error en los parámetros: ['m', 'unaD'] = (3, True)\n",
            "Error en los parámetros: ['m', 'unaD'] = (3, False)\n",
            "Error en los parámetros: ['m', 'unaD'] = (4, True)\n",
            "Error en los parámetros: ['m', 'unaD'] = (4, False)\n",
            "Error en los parámetros: ['m', 'unaD'] = (5, True)\n",
            "Error en los parámetros: ['m', 'unaD'] = (5, False)\n",
            "Error en los parámetros: ['m', 'unaD'] = (6, True)\n",
            "Error en los parámetros: ['m', 'unaD'] = (6, False)\n",
            "\n"
          ]
        }
      ],
      "source": [
        "# Total preguntas\n",
        "_total = n_preguntas\n",
        "# Reemplazo todos los { por {{\n",
        "_enunciado_F = enunciado.replace('{', '{{')\n",
        "_enunciado_F = _enunciado_F.replace('}', '}}')\n",
        "# Reemplazo todos los corchetes por {\n",
        "_enunciado_F = _enunciado_F.replace('[[', '{')\n",
        "_enunciado_F = _enunciado_F.replace(']]', '}')\n",
        "\n",
        "# Lista de parámetros\n",
        "_par_list = []\n",
        "for _parametro in par:\n",
        "    _par_list.append(par_dict[_parametro])\n",
        "\n",
        "# Semilla\n",
        "random.seed(18)\n",
        "\n",
        "# Producto cartesiano\n",
        "_par_comb = list(itertools.product(*_par_list))\n",
        "if len(_par_comb) < _total:\n",
        "    _total = len(_par_comb)\n",
        "else:\n",
        "    _par_comb = random.sample(_par_comb, _total)\n",
        "\n",
        "# Genero el examen\n",
        "_quiz = ''\n",
        "id = 1\n",
        "if not 'funciones' in locals():\n",
        "    funciones = []\n",
        "for _parametros in _par_comb:\n",
        "    try:\n",
        "        for _n, _parametro in enumerate(par):\n",
        "            exec(f\"{_parametro} = _parametros[{_n}]\")\n",
        "        for _funcion in funciones:\n",
        "            exec(_funcion)\n",
        "        # Reemplazo\n",
        "        _quiz += '%%%%%%%%%%%%%%%%%%%%%%%%%%%%%%%%%%%%%%%%'\n",
        "        exec(f'_quiz += fr\"\"\"{_enunciado_F}\"\"\"')\n",
        "        _quiz += '\\n'\n",
        "        id += 1\n",
        "    except:\n",
        "        print('Error en los parámetros:',par, '=', _parametros)\n",
        "    if id > _total:\n",
        "        break\n",
        "\n",
        "# Mensaje\n",
        "print(_quiz)"
      ]
    },
    {
      "cell_type": "markdown",
      "metadata": {},
      "source": [
        "## Generar .tex, .pdf y .xml"
      ]
    },
    {
      "cell_type": "code",
      "execution_count": 14,
      "metadata": {},
      "outputs": [
        {
          "ename": "ValueError",
          "evalue": "Sample larger than population or is negative",
          "output_type": "error",
          "traceback": [
            "\u001b[1;31m---------------------------------------------------------------------------\u001b[0m",
            "\u001b[1;31mValueError\u001b[0m                                Traceback (most recent call last)",
            "Cell \u001b[1;32mIn[14], line 24\u001b[0m\n\u001b[0;32m     21\u001b[0m \u001b[38;5;66;03m# Si está definido el máximo de ejercicios\u001b[39;00m\n\u001b[0;32m     22\u001b[0m \u001b[38;5;28;01mif\u001b[39;00m n_preguntas:\n\u001b[0;32m     23\u001b[0m     \u001b[38;5;66;03m# Tomo combinaciones aleatorias\u001b[39;00m\n\u001b[1;32m---> 24\u001b[0m     _par_comb \u001b[38;5;241m=\u001b[39m \u001b[43mrandom\u001b[49m\u001b[38;5;241;43m.\u001b[39;49m\u001b[43msample\u001b[49m\u001b[43m(\u001b[49m\u001b[43m_par_comb\u001b[49m\u001b[43m,\u001b[49m\u001b[43m \u001b[49m\u001b[43mn_preguntas\u001b[49m\u001b[43m)\u001b[49m\n\u001b[0;32m     26\u001b[0m \u001b[38;5;66;03m# Genero el examen\u001b[39;00m\n\u001b[0;32m     27\u001b[0m _quiz \u001b[38;5;241m=\u001b[39m \u001b[38;5;124m'\u001b[39m\u001b[38;5;124m'\u001b[39m\n",
            "File \u001b[1;32mc:\\Users\\aemerinot\\AppData\\Local\\Programs\\Python\\Python312\\Lib\\random.py:430\u001b[0m, in \u001b[0;36mRandom.sample\u001b[1;34m(self, population, k, counts)\u001b[0m\n\u001b[0;32m    428\u001b[0m randbelow \u001b[38;5;241m=\u001b[39m \u001b[38;5;28mself\u001b[39m\u001b[38;5;241m.\u001b[39m_randbelow\n\u001b[0;32m    429\u001b[0m \u001b[38;5;28;01mif\u001b[39;00m \u001b[38;5;129;01mnot\u001b[39;00m \u001b[38;5;241m0\u001b[39m \u001b[38;5;241m<\u001b[39m\u001b[38;5;241m=\u001b[39m k \u001b[38;5;241m<\u001b[39m\u001b[38;5;241m=\u001b[39m n:\n\u001b[1;32m--> 430\u001b[0m     \u001b[38;5;28;01mraise\u001b[39;00m \u001b[38;5;167;01mValueError\u001b[39;00m(\u001b[38;5;124m\"\u001b[39m\u001b[38;5;124mSample larger than population or is negative\u001b[39m\u001b[38;5;124m\"\u001b[39m)\n\u001b[0;32m    431\u001b[0m result \u001b[38;5;241m=\u001b[39m [\u001b[38;5;28;01mNone\u001b[39;00m] \u001b[38;5;241m*\u001b[39m k\n\u001b[0;32m    432\u001b[0m setsize \u001b[38;5;241m=\u001b[39m \u001b[38;5;241m21\u001b[39m        \u001b[38;5;66;03m# size of a small set minus size of an empty list\u001b[39;00m\n",
            "\u001b[1;31mValueError\u001b[0m: Sample larger than population or is negative"
          ]
        }
      ],
      "source": [
        "# Total preguntas\n",
        "_total = n_preguntas\n",
        "# Reemplazo todos los { por {{\n",
        "_enunciado_F = enunciado.replace('{', '{{')\n",
        "_enunciado_F = _enunciado_F.replace('}', '}}')\n",
        "# Reemplazo todos los corchetes por {\n",
        "_enunciado_F = _enunciado_F.replace('[[', '{')\n",
        "_enunciado_F = _enunciado_F.replace(']]', '}')\n",
        "\n",
        "# Lista de parámetros\n",
        "_par_list = []\n",
        "for _parametro in par:\n",
        "    _par_list.append(par_dict[_parametro])\n",
        "\n",
        "# Producto cartesiano\n",
        "_par_comb = list(itertools.product(*_par_list))\n",
        "if len(_par_comb) < _total:\n",
        "    _total = len(_par_comb)\n",
        "else:\n",
        "    _par_comb = random.sample(_par_comb, _total)\n",
        "\n",
        "# Semilla\n",
        "random.seed(18)\n",
        "\n",
        "# Genero el examen\n",
        "_quiz = ''\n",
        "id = 1\n",
        "if not 'funciones' in locals():\n",
        "    funciones = []\n",
        "for _parametros in _par_comb:\n",
        "    try:\n",
        "        for _n, _parametro in enumerate(par):\n",
        "            exec(f\"{_parametro} = _parametros[{_n}]\")\n",
        "        for _funcion in funciones:\n",
        "            exec(_funcion)\n",
        "        # Reemplazo\n",
        "        _quiz += '%%%%%%%%%%%%%%%%%%%%%%%%%%%%%%%%%%%%%%%%'\n",
        "        exec(f'_quiz += fr\"\"\"{_enunciado_F}\"\"\"')\n",
        "        _quiz += '\\n'\n",
        "        id += 1\n",
        "    except:\n",
        "        print('Error en los parámetros:',par, '=', _parametros)\n",
        "    if id > _total:\n",
        "        break\n",
        "\n",
        "_parametros_latex = ''\n",
        "for _parametro in par:\n",
        "    _parametros_latex += '\\t' + fr'\\item ${_parametro} \\in ' + '\\\\{' + ', '.join(map(str, par_dict[_parametro])) + '\\\\}$' + '\\n'\n",
        "\n",
        "# Leo el archivo plantilla\n",
        "# Si la variable plantilla no está definida, la defino como 'Plantilla.tex'\n",
        "if not 'plantilla' in locals():\n",
        "    plantilla = 'Plantilla.tex'\n",
        "_plantilla = open(plantilla, 'r', encoding='utf-8')\n",
        "_t_plantilla = _plantilla.read()\n",
        "_plantilla.close()\n",
        "# Reemplazo\n",
        "_t_plantilla = _t_plantilla.replace('{{QUIZ}}', _quiz)\n",
        "_t_plantilla = _t_plantilla.replace('{{Cuestionario}}', name)\n",
        "_t_plantilla = _t_plantilla.replace('{{Parámetros}}', _parametros_latex)\n",
        "_t_plantilla = _t_plantilla.replace('{{Número de preguntas}}', str(id-1))\n",
        "\n",
        "# Escribo el archivo\n",
        "# Si la variable carpeta no está definida, la defino como 'test'\n",
        "if not 'carpeta' in locals():\n",
        "    carpeta = 'output'\n",
        "# Si no existe la carpeta, la creo\n",
        "if not os.path.exists(carpeta):\n",
        "    os.makedirs(carpeta)\n",
        "_examen = open(f'{carpeta}/{name}.tex', 'w', encoding='utf-8')\n",
        "_examen.write(_t_plantilla)\n",
        "_examen.close()\n",
        "\n",
        "# Compilo el examen con xeLaTeX\n",
        "os.system(f'latexmk -xelatex \"{name}.tex\" -output-directory=\"./{carpeta}\"')\n",
        "\n",
        "# Elimino todos los archivos llamados examen, salvo el pdf y el xml\n",
        "_archivos = os.listdir(f'./{carpeta}')\n",
        "for _archivo in _archivos:\n",
        "    if name in _archivo:\n",
        "        if '.pdf' not in _archivo and '.xml' not in _archivo and '.tex' not in _archivo:\n",
        "            try:\n",
        "                os.remove(f\"{carpeta}/\"+_archivo)\n",
        "            except:\n",
        "                pass\n",
        "# Elimino los archivos fls\n",
        "for _archivo in _archivos:\n",
        "    if '.fls' in _archivo:\n",
        "        try:\n",
        "            os.remove(_archivo)\n",
        "        except:\n",
        "            pass\n",
        "\n",
        "# Mensaje\n",
        "print(f'Examen generado con éxito, se generaron {id-1} preguntas.')"
      ]
    }
  ],
  "metadata": {
    "colab": {
      "include_colab_link": true,
      "provenance": []
    },
    "kernelspec": {
      "display_name": "Python 3",
      "language": "python",
      "name": "python3"
    },
    "language_info": {
      "codemirror_mode": {
        "name": "ipython",
        "version": 3
      },
      "file_extension": ".py",
      "mimetype": "text/x-python",
      "name": "python",
      "nbconvert_exporter": "python",
      "pygments_lexer": "ipython3",
      "version": "3.12.3"
    }
  },
  "nbformat": 4,
  "nbformat_minor": 0
}
