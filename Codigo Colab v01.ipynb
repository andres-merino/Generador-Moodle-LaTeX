{
  "cells": [
    {
      "cell_type": "markdown",
      "metadata": {
        "colab_type": "text",
        "id": "view-in-github"
      },
      "source": [
        "<a href=\"https://colab.research.google.com/github/andres-merino/Generador-Moodle-LaTeX/blob/main/Codigo%20Colab%20v01.ipynb\" target=\"_parent\"><img src=\"https://colab.research.google.com/assets/colab-badge.svg\" alt=\"Open In Colab\"/></a>"
      ]
    },
    {
      "cell_type": "markdown",
      "metadata": {
        "id": "n6Mb9NheuIZ0"
      },
      "source": [
        "# Generador de preguntas de Moodle"
      ]
    },
    {
      "cell_type": "code",
      "execution_count": 4,
      "metadata": {
        "id": "KO3ZKRi7uIZ2"
      },
      "outputs": [],
      "source": [
        "# Paquetes\n",
        "import itertools\n",
        "import os\n",
        "import random"
      ]
    },
    {
      "cell_type": "markdown",
      "metadata": {
        "id": "J41iW6_VuIZ3"
      },
      "source": [
        "## Definiciones\n",
        "\n",
        "Llenar estos datos, en el enunciado, los parámetros y datos que deseen sean reemplazados o calculados por el generador, deben estar entre corchetes dobles `[[ ]]`. Dentro de cada pregunta, si un item no tiene opciones, dejar corchetes vacíos `[]` (ver ejemplo). El identificador de la pregunta siempre debe tener el parámetro `[[id]]` para que sea reemplazado por el generador."
      ]
    },
    {
      "cell_type": "code",
      "execution_count": 5,
      "metadata": {
        "id": "rluZkFJWuIZ4"
      },
      "outputs": [],
      "source": [
        "# Nombre del cuestionario\n",
        "name = \"Producto\"\n",
        "\n",
        "# Parámetros\n",
        "par = [\"a\", \"b\"]\n",
        "# Diccionario de parámetros\n",
        "par_dict = {\n",
        "    \"a\": [-2,-1,0,1,2],\n",
        "    \"b\": [-2,-1,1,2],\n",
        "    }\n",
        "\n",
        "# Enunciado\n",
        "enunciado = r'''\n",
        "\\begin{numerical}[]%\n",
        "    % - Indentificador\n",
        "    {Producto - [[id]]}\n",
        "    % - Enunciado\n",
        "    Determine el valor de\n",
        "    \\[\n",
        "        ([[a]]) \\cdot ([[b]])\n",
        "    \\]\n",
        "    \\item[] [[a*b]]\n",
        "\\end{numerical}\n",
        "'''\n",
        "\n",
        "# Cantidad de preguntas a generar\n",
        "n_preguntas = 2\n",
        "\n",
        "# Código adicional a compilar antes de la generación de cada pregunta (opcional)\n",
        "# funciones = []\n",
        "# Plantilla personalizada (opcional, por defento Plantilla.tex)\n",
        "# plantilla = \"PlantillaAleph.tex\"\n",
        "# Carpeta de salida (opcional, por defecto output/)\n",
        "# carpeta = \"output/\""
      ]
    },
    {
      "cell_type": "markdown",
      "metadata": {
        "id": "gM3_qbJ8uIZ5"
      },
      "source": [
        "## Probar con un parámetro\n",
        "\n",
        "Para probar con un parámetro, ejecutar el siguiente código. Si se quiere solo generar una cantidad $n$ de preguntas para copiarlas, cambiar el valor de total preguntas.\n"
      ]
    },
    {
      "cell_type": "code",
      "execution_count": 6,
      "metadata": {
        "id": "11A-8qeJuIZ5",
        "outputId": "ee987d15-7eba-465b-f371-2e8f1b5ec56a"
      },
      "outputs": [
        {
          "name": "stdout",
          "output_type": "stream",
          "text": [
            "%%%%%%%%%%%%%%%%%%%%%%%%%%%%%%%%%%%%%%%%\n",
            "\\begin{numerical}[]%\n",
            "    % - Indentificador\n",
            "    {Producto - 1}\n",
            "    % - Enunciado\n",
            "    Determine el valor de\n",
            "    \\[\n",
            "        (-1) \\cdot (-1)\n",
            "    \\]\n",
            "    \\item[] 1\n",
            "\\end{numerical}\n",
            "\n",
            "%%%%%%%%%%%%%%%%%%%%%%%%%%%%%%%%%%%%%%%%\n",
            "\\begin{numerical}[]%\n",
            "    % - Indentificador\n",
            "    {Producto - 2}\n",
            "    % - Enunciado\n",
            "    Determine el valor de\n",
            "    \\[\n",
            "        (-2) \\cdot (2)\n",
            "    \\]\n",
            "    \\item[] -4\n",
            "\\end{numerical}\n",
            "\n",
            "\n"
          ]
        }
      ],
      "source": [
        "# Total preguntas\n",
        "_total = n_preguntas\n",
        "# Reemplazo todos los { por {{\n",
        "_enunciado_F = enunciado.replace('{', '{{')\n",
        "_enunciado_F = _enunciado_F.replace('}', '}}')\n",
        "# Reemplazo todos los corchetes por {\n",
        "_enunciado_F = _enunciado_F.replace('[[', '{')\n",
        "_enunciado_F = _enunciado_F.replace(']]', '}')\n",
        "\n",
        "# Lista de parámetros\n",
        "_par_list = []\n",
        "for _parametro in par:\n",
        "    _par_list.append(par_dict[_parametro])\n",
        "\n",
        "# Semilla\n",
        "random.seed(18)\n",
        "\n",
        "# Producto cartesiano\n",
        "_par_comb = list(itertools.product(*_par_list))\n",
        "_par_comb = random.sample(_par_comb, _total)\n",
        "\n",
        "# Genero el examen\n",
        "_quiz = ''\n",
        "id = 1\n",
        "if not 'funciones' in locals():\n",
        "    funciones = []\n",
        "for _parametros in _par_comb:\n",
        "    # try:\n",
        "    for _n, _parametro in enumerate(par):\n",
        "        exec(f\"{_parametro} = _parametros[{_n}]\")\n",
        "    for _funcion in funciones:\n",
        "        exec(_funcion)\n",
        "    # Reemplazo\n",
        "    _quiz += '%%%%%%%%%%%%%%%%%%%%%%%%%%%%%%%%%%%%%%%%'\n",
        "    exec(f'_quiz += fr\"\"\"{_enunciado_F}\"\"\"')\n",
        "    _quiz += '\\n'\n",
        "    id += 1\n",
        "    # except:\n",
        "        # print('Error en los parámetros:',par, '=', _parametros)\n",
        "    if id > _total:\n",
        "            break\n",
        "\n",
        "# Mensaje\n",
        "print(_quiz)"
      ]
    },
    {
      "cell_type": "markdown",
      "metadata": {
        "id": "9k5c5mY6uIZ6"
      },
      "source": [
        "## Generar el examen\n",
        "\n",
        "Si todo está bien, ejecutar el siguiente código para generar el examen."
      ]
    },
    {
      "cell_type": "code",
      "execution_count": 7,
      "metadata": {
        "colab": {
          "base_uri": "https://localhost:8080/"
        },
        "id": "tK_iN9I_uIZ6",
        "outputId": "fa922fec-c903-46ae-c12e-96acf5c0cf4f"
      },
      "outputs": [
        {
          "name": "stdout",
          "output_type": "stream",
          "text": [
            "Examen generado con éxito, se generaron 2 preguntas.\n"
          ]
        },
        {
          "name": "stderr",
          "output_type": "stream",
          "text": [
            "<>:45: SyntaxWarning: invalid escape sequence '\\{'\n",
            "<>:45: SyntaxWarning: invalid escape sequence '\\}'\n",
            "<>:45: SyntaxWarning: invalid escape sequence '\\{'\n",
            "<>:45: SyntaxWarning: invalid escape sequence '\\}'\n",
            "C:\\Users\\aemerinot\\AppData\\Local\\Temp\\ipykernel_18552\\2270743655.py:45: SyntaxWarning: invalid escape sequence '\\{'\n",
            "  _parametros_latex += '\\t' + fr'\\item ${_parametro} \\in ' + '\\{' + ', '.join(map(str, par_dict[_parametro])) + '\\}$' + '\\n'\n",
            "C:\\Users\\aemerinot\\AppData\\Local\\Temp\\ipykernel_18552\\2270743655.py:45: SyntaxWarning: invalid escape sequence '\\}'\n",
            "  _parametros_latex += '\\t' + fr'\\item ${_parametro} \\in ' + '\\{' + ', '.join(map(str, par_dict[_parametro])) + '\\}$' + '\\n'\n"
          ]
        }
      ],
      "source": [
        "# Reemplazo todos los { por {{\n",
        "_enunciado_F = enunciado.replace('{', '{{')\n",
        "_enunciado_F = _enunciado_F.replace('}', '}}')\n",
        "# Reemplazo todos los corchetes por {\n",
        "_enunciado_F = _enunciado_F.replace('[[', '{')\n",
        "_enunciado_F = _enunciado_F.replace(']]', '}')\n",
        "\n",
        "# Lista de parámetros\n",
        "_par_list = []\n",
        "for _parametro in par:\n",
        "    _par_list.append(par_dict[_parametro])\n",
        "\n",
        "# Producto cartesiano\n",
        "_par_comb = list(itertools.product(*_par_list))\n",
        "\n",
        "# Semilla\n",
        "random.seed(18)\n",
        "\n",
        "# Si está definido el máximo de ejercicios\n",
        "if n_preguntas:\n",
        "    # Tomo combinaciones aleatorias\n",
        "    _par_comb = random.sample(_par_comb, n_preguntas)\n",
        "\n",
        "# Genero el examen\n",
        "_quiz = ''\n",
        "id = 1\n",
        "if not 'funciones' in locals():\n",
        "    funciones = []\n",
        "for _parametros in _par_comb:\n",
        "    try:\n",
        "        for _n, _parametro in enumerate(par):\n",
        "            exec(f\"{_parametro} = _parametros[{_n}]\")\n",
        "        for _funcion in funciones:\n",
        "            exec(_funcion)\n",
        "        # Reemplazo\n",
        "        _quiz += '%%%%%%%%%%%%%%%%%%%%%%%%%%%%%%%%%%%%%%%%'\n",
        "        exec(f'_quiz += fr\"\"\"{_enunciado_F}\"\"\"')\n",
        "        _quiz += '\\n'\n",
        "        id += 1\n",
        "    except:\n",
        "        print('Error en los parámetros:',par, '=', _parametros)\n",
        "\n",
        "_parametros_latex = ''\n",
        "for _parametro in par:\n",
        "    _parametros_latex += '\\t' + fr'\\item ${_parametro} \\in ' + '\\\\{' + ', '.join(map(str, par_dict[_parametro])) + '\\\\}$' + '\\n'\n",
        "\n",
        "# Leo el archivo plantilla\n",
        "# Si la variable plantilla no está definida, la defino como 'Plantilla.tex'\n",
        "if not 'plantilla' in locals():\n",
        "    plantilla = 'Plantilla.tex'\n",
        "_plantilla = open(plantilla, 'r', encoding='utf-8')\n",
        "_t_plantilla = _plantilla.read()\n",
        "_plantilla.close()\n",
        "# Reemplazo\n",
        "_t_plantilla = _t_plantilla.replace('{{QUIZ}}', _quiz)\n",
        "_t_plantilla = _t_plantilla.replace('{{Cuestionario}}', name)\n",
        "_t_plantilla = _t_plantilla.replace('{{Parámetros}}', _parametros_latex)\n",
        "_t_plantilla = _t_plantilla.replace('{{Número de preguntas}}', str(id-1))\n",
        "\n",
        "# Escribo el archivo\n",
        "# Si la variable carpeta no está definida, la defino como 'test'\n",
        "if not 'carpeta' in locals():\n",
        "    carpeta = 'output'\n",
        "# Si no existe la carpeta, la creo\n",
        "if not os.path.exists(carpeta):\n",
        "    os.makedirs(carpeta)\n",
        "_examen = open(f'{carpeta}/{name}.tex', 'w', encoding='utf-8')\n",
        "_examen.write(_t_plantilla)\n",
        "_examen.close()\n",
        "\n",
        "# Mensaje\n",
        "print(f'Examen generado con éxito, se generaron {id-1} preguntas.')"
      ]
    },
    {
      "cell_type": "code",
      "execution_count": null,
      "metadata": {
        "id": "rbNG4LKJuIZ7"
      },
      "outputs": [],
      "source": []
    }
  ],
  "metadata": {
    "colab": {
      "include_colab_link": true,
      "provenance": []
    },
    "kernelspec": {
      "display_name": "Python 3",
      "language": "python",
      "name": "python3"
    },
    "language_info": {
      "codemirror_mode": {
        "name": "ipython",
        "version": 3
      },
      "file_extension": ".py",
      "mimetype": "text/x-python",
      "name": "python",
      "nbconvert_exporter": "python",
      "pygments_lexer": "ipython3",
      "version": "3.12.3"
    }
  },
  "nbformat": 4,
  "nbformat_minor": 0
}
