{
  "cells": [
    {
      "cell_type": "markdown",
      "metadata": {
        "id": "view-in-github",
        "colab_type": "text"
      },
      "source": [
        "<a href=\"https://colab.research.google.com/github/andres-merino/Generador-Moodle-LaTeX/blob/main/Codigo%20Colab%20v01.ipynb\" target=\"_parent\"><img src=\"https://colab.research.google.com/assets/colab-badge.svg\" alt=\"Open In Colab\"/></a>"
      ]
    },
    {
      "cell_type": "markdown",
      "metadata": {
        "id": "n6Mb9NheuIZ0"
      },
      "source": [
        "# Generador de preguntas de Moodle"
      ]
    },
    {
      "cell_type": "code",
      "execution_count": 21,
      "metadata": {
        "id": "KO3ZKRi7uIZ2"
      },
      "outputs": [],
      "source": [
        "#@title <font color=\"264CC7\" size=\"+1\"> Ejecutar configuración\n",
        "# Paquetes\n",
        "import itertools\n",
        "import os\n",
        "import random\n",
        "import numpy as np\n",
        "from scipy.stats import *\n",
        "from sympy import *\n",
        "\n",
        "from urllib.request import urlretrieve\n",
        "urlretrieve(\"https://raw.githubusercontent.com/andres-merino/Generador-Moodle-LaTeX/main/Plantilla.tex\", \"/content/Plantilla.tex\")\n",
        "from google.colab import files\n",
        "from IPython.display import HTML"
      ]
    },
    {
      "cell_type": "markdown",
      "metadata": {
        "id": "J41iW6_VuIZ3"
      },
      "source": [
        "## Parámetros y enunciado\n",
        "\n",
        "Se deben completar los siguientes campos para la generación de las preguntas del cuestionario.\n",
        "\n",
        "1. **Nombre del cuestionario:** Asigne un nombre descriptivo al cuestionario.\n",
        "2. **Parámetros:** Enumere todos los parámetros utilizados en el la pregunta.\n",
        "3. **Diccionario de parámetros:** Proporcione un diccionario con los parámetros y listas de valores de cada uno.\n",
        "4. **Enunciado:** Escriba el enunciado de la pregunta. Utilice doble corchete `[[ ]]` para encerrar los parámetros o cálculos que desee que el generador reemplace.\n",
        "    - Si un item dentro del enunciado no tiene opciones, use corchetes vacíos `[]`.\n",
        "    - Incluya siempre el parámetro `[[id]]` en cada pregunta para su reemplazo automático.\n",
        "5. **Cantidad máxima de ejercicios:** Especifique el número máximo de preguntas que desea que se generen para este cuestionario."
      ]
    },
    {
      "cell_type": "code",
      "execution_count": 11,
      "metadata": {
        "id": "rluZkFJWuIZ4"
      },
      "outputs": [],
      "source": [
        "# Nombre del cuestionario\n",
        "name = \"Producto\"\n",
        "\n",
        "# Parámetros\n",
        "par = [\"a\", \"b\"]\n",
        "\n",
        "# Diccionario de parámetros\n",
        "par_dict = {\n",
        "    \"a\": [-2,-1,0,1,2],\n",
        "    \"b\": [-2,2,3],\n",
        "    }\n",
        "\n",
        "# Enunciado\n",
        "enunciado = r'''\n",
        "\\begin{numerical}[tolerance=0.01]%\n",
        "    % - Indentificador\n",
        "    {Producto - [[id]]}\n",
        "    % - Enunciado\n",
        "    Determine el valor de\n",
        "    \\[\n",
        "        ([[a]])\\cdot ([[b]])\n",
        "    \\]\n",
        "    \\item[] [[a * b]]\n",
        "\\end{numerical}\n",
        "'''\n",
        "\n",
        "# Cantidad máxima de ejercicios\n",
        "max_ejercicios = 3\n"
      ]
    },
    {
      "cell_type": "markdown",
      "metadata": {
        "id": "gM3_qbJ8uIZ5"
      },
      "source": [
        "## Generar preguntas\n",
        "\n",
        "Ejecutar la siguiente celda, se obtendrá el código en LaTeX de las perguntas generadas."
      ]
    },
    {
      "cell_type": "code",
      "execution_count": 12,
      "metadata": {
        "id": "11A-8qeJuIZ5",
        "outputId": "cd6408bb-4a2e-485a-9e59-45bf5b30719d",
        "colab": {
          "base_uri": "https://localhost:8080/"
        },
        "cellView": "form"
      },
      "outputs": [
        {
          "output_type": "stream",
          "name": "stdout",
          "text": [
            "%%%%%%%%%%%%%%%%%%%%%%%%%%%%%%%%%%%%%%%%\n",
            "\\begin{numerical}[tolerance=0.01]%\n",
            "    % - Indentificador\n",
            "    {Producto - 1}\n",
            "    % - Enunciado\n",
            "    Determine el valor de\n",
            "    \\[\n",
            "        (1)\\cdot (-2)\n",
            "    \\]\n",
            "    \\item[] -2\n",
            "\\end{numerical}\n",
            "\n",
            "%%%%%%%%%%%%%%%%%%%%%%%%%%%%%%%%%%%%%%%%\n",
            "\\begin{numerical}[tolerance=0.01]%\n",
            "    % - Indentificador\n",
            "    {Producto - 2}\n",
            "    % - Enunciado\n",
            "    Determine el valor de\n",
            "    \\[\n",
            "        (-2)\\cdot (-2)\n",
            "    \\]\n",
            "    \\item[] 4\n",
            "\\end{numerical}\n",
            "\n",
            "%%%%%%%%%%%%%%%%%%%%%%%%%%%%%%%%%%%%%%%%\n",
            "\\begin{numerical}[tolerance=0.01]%\n",
            "    % - Indentificador\n",
            "    {Producto - 3}\n",
            "    % - Enunciado\n",
            "    Determine el valor de\n",
            "    \\[\n",
            "        (0)\\cdot (-2)\n",
            "    \\]\n",
            "    \\item[] 0\n",
            "\\end{numerical}\n",
            "\n",
            "\n"
          ]
        }
      ],
      "source": [
        "#@title <font color=\"264CC7\" size=\"+1\"> Generar preguntas\n",
        "# Total preguntas\n",
        "_total = max_ejercicios\n",
        "# Reemplazo todos los { por {{\n",
        "_enunciado_F = enunciado.replace('{', '{{')\n",
        "_enunciado_F = _enunciado_F.replace('}', '}}')\n",
        "# Reemplazo todos los corchetes por {\n",
        "_enunciado_F = _enunciado_F.replace('[[', '{')\n",
        "_enunciado_F = _enunciado_F.replace(']]', '}')\n",
        "\n",
        "# Lista de parámetros\n",
        "_par_list = []\n",
        "for _parametro in par:\n",
        "    _par_list.append(par_dict[_parametro])\n",
        "\n",
        "# Semilla\n",
        "random.seed(10)\n",
        "\n",
        "# Producto cartesiano\n",
        "_par_comb = list(itertools.product(*_par_list))\n",
        "_par_comb = random.sample(_par_comb, _total)\n",
        "\n",
        "# Genero el examen\n",
        "_quiz = ''\n",
        "id = 1\n",
        "for _parametros in _par_comb:\n",
        "    try:\n",
        "        for _n, _parametro in enumerate(par):\n",
        "            exec(f\"{_parametro} = _parametros[{_n}]\")\n",
        "        # Reemplazo\n",
        "        _quiz += '%%%%%%%%%%%%%%%%%%%%%%%%%%%%%%%%%%%%%%%%'\n",
        "        exec(f'_quiz += fr\"\"\"{_enunciado_F}\"\"\"')\n",
        "        _quiz += '\\n'\n",
        "        id += 1\n",
        "    except:\n",
        "        print('% Error en los parámetros:',par, '=', _parametros)\n",
        "    if id > _total:\n",
        "        break\n",
        "\n",
        "# Mensaje\n",
        "print(_quiz)"
      ]
    },
    {
      "cell_type": "markdown",
      "source": [
        "## Generar .tex\n",
        "\n",
        "Al ejecutar la siguiente celda, se obtendrá el archivo .tex con el cuestionario."
      ],
      "metadata": {
        "id": "l7PzNCMLPf95"
      }
    },
    {
      "cell_type": "code",
      "source": [
        "#@title <font color=\"264CC7\" size=\"+1\"> Generar .tex\n",
        "# Reemplazo todos los { por {{\n",
        "_enunciado_F = enunciado.replace('{', '{{')\n",
        "_enunciado_F = _enunciado_F.replace('}', '}}')\n",
        "# Reemplazo todos los corchetes por {\n",
        "_enunciado_F = _enunciado_F.replace('[[', '{')\n",
        "_enunciado_F = _enunciado_F.replace(']]', '}')\n",
        "\n",
        "# Lista de parámetros\n",
        "_par_list = []\n",
        "for _parametro in par:\n",
        "    _par_list.append(par_dict[_parametro])\n",
        "\n",
        "# Producto cartesiano\n",
        "_par_comb = list(itertools.product(*_par_list))\n",
        "\n",
        "# Semilla\n",
        "random.seed(10)\n",
        "\n",
        "# Si está definido el máximo de ejercicios\n",
        "if max_ejercicios:\n",
        "    # Tomo combinaciones aleatorias\n",
        "    _par_comb = random.sample(_par_comb, max_ejercicios)\n",
        "\n",
        "# Genero el examen\n",
        "_quiz = ''\n",
        "id = 1\n",
        "for _parametros in _par_comb:\n",
        "    try:\n",
        "        for _n, _parametro in enumerate(par):\n",
        "            exec(f\"{_parametro} = _parametros[{_n}]\")\n",
        "        # Reemplazo\n",
        "        _quiz += '%%%%%%%%%%%%%%%%%%%%%%%%%%%%%%%%%%%%%%%%'\n",
        "        exec(f'_quiz += fr\"\"\"{_enunciado_F}\"\"\"')\n",
        "        _quiz += '\\n'\n",
        "        id += 1\n",
        "    except:\n",
        "        print('Error en los parámetros:',par, '=', _parametros)\n",
        "\n",
        "_parametros_latex = ''\n",
        "for _parametro in par:\n",
        "    _parametros_latex += '\\t' + fr'\\item ${_parametro} \\in ' + '\\{' + ', '.join(map(str, par_dict[_parametro])) + '\\}$' + '\\n'\n",
        "\n",
        "# Leo el archivo plantilla\n",
        "_plantilla = open('Plantilla.tex', 'r', encoding='utf-8')\n",
        "_t_plantilla = _plantilla.read()\n",
        "_plantilla.close()\n",
        "# Reemplazo\n",
        "_t_plantilla = _t_plantilla.replace('{{QUIZ}}', _quiz)\n",
        "_t_plantilla = _t_plantilla.replace('{{Cuestionario}}', name)\n",
        "_t_plantilla = _t_plantilla.replace('{{Enunciado}}', enunciado)\n",
        "_t_plantilla = _t_plantilla.replace('{{Parámetros}}', _parametros_latex)\n",
        "_t_plantilla = _t_plantilla.replace('{{Número de preguntas}}', str(id-1))\n",
        "\n",
        "# Escribo el archivo\n",
        "_examen = open(f'{name}.tex', 'w', encoding='utf-8')\n",
        "_examen.write(_t_plantilla)\n",
        "_examen.close()\n",
        "\n",
        "# Mensaje\n",
        "print(f'Examen generado con éxito, se generaron {id-1} preguntas.')\n",
        "\n",
        "# Descarga\n",
        "files.download(f'{name}.tex')\n",
        "print(f'Descargando archivo.')"
      ],
      "metadata": {
        "colab": {
          "base_uri": "https://localhost:8080/",
          "height": 54
        },
        "cellView": "form",
        "id": "TNGNsFKsPjGU",
        "outputId": "ddfb5172-0150-45b5-88fc-5292763a0866"
      },
      "execution_count": 25,
      "outputs": [
        {
          "output_type": "stream",
          "name": "stdout",
          "text": [
            "Examen generado con éxito, se generaron 3 preguntas.\n"
          ]
        },
        {
          "output_type": "display_data",
          "data": {
            "text/plain": [
              "<IPython.core.display.Javascript object>"
            ],
            "application/javascript": [
              "\n",
              "    async function download(id, filename, size) {\n",
              "      if (!google.colab.kernel.accessAllowed) {\n",
              "        return;\n",
              "      }\n",
              "      const div = document.createElement('div');\n",
              "      const label = document.createElement('label');\n",
              "      label.textContent = `Downloading \"${filename}\": `;\n",
              "      div.appendChild(label);\n",
              "      const progress = document.createElement('progress');\n",
              "      progress.max = size;\n",
              "      div.appendChild(progress);\n",
              "      document.body.appendChild(div);\n",
              "\n",
              "      const buffers = [];\n",
              "      let downloaded = 0;\n",
              "\n",
              "      const channel = await google.colab.kernel.comms.open(id);\n",
              "      // Send a message to notify the kernel that we're ready.\n",
              "      channel.send({})\n",
              "\n",
              "      for await (const message of channel.messages) {\n",
              "        // Send a message to notify the kernel that we're ready.\n",
              "        channel.send({})\n",
              "        if (message.buffers) {\n",
              "          for (const buffer of message.buffers) {\n",
              "            buffers.push(buffer);\n",
              "            downloaded += buffer.byteLength;\n",
              "            progress.value = downloaded;\n",
              "          }\n",
              "        }\n",
              "      }\n",
              "      const blob = new Blob(buffers, {type: 'application/binary'});\n",
              "      const a = document.createElement('a');\n",
              "      a.href = window.URL.createObjectURL(blob);\n",
              "      a.download = filename;\n",
              "      div.appendChild(a);\n",
              "      a.click();\n",
              "      div.remove();\n",
              "    }\n",
              "  "
            ]
          },
          "metadata": {}
        },
        {
          "output_type": "display_data",
          "data": {
            "text/plain": [
              "<IPython.core.display.Javascript object>"
            ],
            "application/javascript": [
              "download(\"download_4409733d-61c7-490e-8ad0-370000a61dac\", \"Producto.tex\", 2142)"
            ]
          },
          "metadata": {}
        },
        {
          "output_type": "stream",
          "name": "stdout",
          "text": [
            "El archivo se ha descargado.\n"
          ]
        }
      ]
    }
  ],
  "metadata": {
    "kernelspec": {
      "display_name": "Python 3",
      "language": "python",
      "name": "python3"
    },
    "language_info": {
      "codemirror_mode": {
        "name": "ipython",
        "version": 3
      },
      "file_extension": ".py",
      "mimetype": "text/x-python",
      "name": "python",
      "nbconvert_exporter": "python",
      "pygments_lexer": "ipython3",
      "version": "3.11.3"
    },
    "colab": {
      "provenance": [],
      "include_colab_link": true
    }
  },
  "nbformat": 4,
  "nbformat_minor": 0
}